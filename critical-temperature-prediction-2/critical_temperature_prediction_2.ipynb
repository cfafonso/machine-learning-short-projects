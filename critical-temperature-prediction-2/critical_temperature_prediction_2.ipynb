{
 "cells": [
  {
   "cell_type": "markdown",
   "id": "3d4549d7",
   "metadata": {},
   "source": [
    "<h2><center>Critical Temperature Prediction 2</center></h2>\n",
    "\n",
    "<h3><center>Principal Component Analysis, Decision Trees, Linear Regression and Naïve Bayes</center></h3>\n",
    "\n",
    "---"
   ]
  },
  {
   "cell_type": "markdown",
   "id": "1eca09e5",
   "metadata": {},
   "source": [
    "The purpose of this project is to produce and compare regression and classification models with a full chemical dataset and its projection into principal components. The dataset, adapted from the [supercondutivity data](https://archive.ics.uci.edu/dataset/464/superconductivty+data), contains information on 21263 superconductors and has 81 chemical features along with their chemical composition and critical temperature (which constitutes the target variable)."
   ]
  },
  {
   "cell_type": "code",
   "execution_count": 1,
   "id": "54f59d0c",
   "metadata": {
    "id": "54f59d0c"
   },
   "outputs": [],
   "source": [
    "import pandas as pd\n",
    "import numpy as np\n",
    "import matplotlib.pyplot as plt\n",
    "from sklearn.model_selection import train_test_split\n",
    "from sklearn.preprocessing import StandardScaler\n",
    "from sklearn.decomposition import PCA\n",
    "from sklearn.metrics import f1_score, matthews_corrcoef, precision_score, recall_score, explained_variance_score\n",
    "from sklearn.metrics import root_mean_squared_error, accuracy_score, max_error, mean_absolute_error\n",
    "from sklearn.naive_bayes import GaussianNB\n",
    "from sklearn.tree import DecisionTreeRegressor, DecisionTreeClassifier\n",
    "from sklearn.linear_model import LinearRegression\n",
    "from scipy.stats import pearsonr"
   ]
  },
  {
   "cell_type": "markdown",
   "id": "07309047",
   "metadata": {},
   "source": [
    "## Exploratory data analysis"
   ]
  },
  {
   "cell_type": "code",
   "execution_count": 2,
   "id": "b8d8cc6f",
   "metadata": {
    "colab": {
     "base_uri": "https://localhost:8080/",
     "height": 487
    },
    "id": "b8d8cc6f",
    "outputId": "96eac788-37af-4a5d-b91e-5fd99d4cc8cc"
   },
   "outputs": [],
   "source": [
    "train = pd.read_csv(\"train.csv\")"
   ]
  },
  {
   "cell_type": "code",
   "execution_count": 3,
   "id": "bc91814a",
   "metadata": {},
   "outputs": [
    {
     "data": {
      "text/html": [
       "<div>\n",
       "<style scoped>\n",
       "    .dataframe tbody tr th:only-of-type {\n",
       "        vertical-align: middle;\n",
       "    }\n",
       "\n",
       "    .dataframe tbody tr th {\n",
       "        vertical-align: top;\n",
       "    }\n",
       "\n",
       "    .dataframe thead th {\n",
       "        text-align: right;\n",
       "    }\n",
       "</style>\n",
       "<table border=\"1\" class=\"dataframe\">\n",
       "  <thead>\n",
       "    <tr style=\"text-align: right;\">\n",
       "      <th></th>\n",
       "      <th>number_of_elements</th>\n",
       "      <th>mean_atomic_mass</th>\n",
       "      <th>wtd_mean_atomic_mass</th>\n",
       "      <th>gmean_atomic_mass</th>\n",
       "      <th>wtd_gmean_atomic_mass</th>\n",
       "      <th>entropy_atomic_mass</th>\n",
       "      <th>wtd_entropy_atomic_mass</th>\n",
       "      <th>range_atomic_mass</th>\n",
       "      <th>wtd_range_atomic_mass</th>\n",
       "      <th>std_atomic_mass</th>\n",
       "      <th>...</th>\n",
       "      <th>wtd_mean_Valence</th>\n",
       "      <th>gmean_Valence</th>\n",
       "      <th>wtd_gmean_Valence</th>\n",
       "      <th>entropy_Valence</th>\n",
       "      <th>wtd_entropy_Valence</th>\n",
       "      <th>range_Valence</th>\n",
       "      <th>wtd_range_Valence</th>\n",
       "      <th>std_Valence</th>\n",
       "      <th>wtd_std_Valence</th>\n",
       "      <th>critical_temp</th>\n",
       "    </tr>\n",
       "  </thead>\n",
       "  <tbody>\n",
       "    <tr>\n",
       "      <th>0</th>\n",
       "      <td>4</td>\n",
       "      <td>88.944468</td>\n",
       "      <td>57.862692</td>\n",
       "      <td>66.361592</td>\n",
       "      <td>36.116612</td>\n",
       "      <td>1.181795</td>\n",
       "      <td>1.062396</td>\n",
       "      <td>122.90607</td>\n",
       "      <td>31.794921</td>\n",
       "      <td>51.968828</td>\n",
       "      <td>...</td>\n",
       "      <td>2.257143</td>\n",
       "      <td>2.213364</td>\n",
       "      <td>2.219783</td>\n",
       "      <td>1.368922</td>\n",
       "      <td>1.066221</td>\n",
       "      <td>1</td>\n",
       "      <td>1.085714</td>\n",
       "      <td>0.433013</td>\n",
       "      <td>0.437059</td>\n",
       "      <td>29.00</td>\n",
       "    </tr>\n",
       "    <tr>\n",
       "      <th>1</th>\n",
       "      <td>5</td>\n",
       "      <td>92.729214</td>\n",
       "      <td>58.518416</td>\n",
       "      <td>73.132787</td>\n",
       "      <td>36.396602</td>\n",
       "      <td>1.449309</td>\n",
       "      <td>1.057755</td>\n",
       "      <td>122.90607</td>\n",
       "      <td>36.161939</td>\n",
       "      <td>47.094633</td>\n",
       "      <td>...</td>\n",
       "      <td>2.257143</td>\n",
       "      <td>1.888175</td>\n",
       "      <td>2.210679</td>\n",
       "      <td>1.557113</td>\n",
       "      <td>1.047221</td>\n",
       "      <td>2</td>\n",
       "      <td>1.128571</td>\n",
       "      <td>0.632456</td>\n",
       "      <td>0.468606</td>\n",
       "      <td>26.00</td>\n",
       "    </tr>\n",
       "    <tr>\n",
       "      <th>2</th>\n",
       "      <td>4</td>\n",
       "      <td>88.944468</td>\n",
       "      <td>57.885242</td>\n",
       "      <td>66.361592</td>\n",
       "      <td>36.122509</td>\n",
       "      <td>1.181795</td>\n",
       "      <td>0.975980</td>\n",
       "      <td>122.90607</td>\n",
       "      <td>35.741099</td>\n",
       "      <td>51.968828</td>\n",
       "      <td>...</td>\n",
       "      <td>2.271429</td>\n",
       "      <td>2.213364</td>\n",
       "      <td>2.232679</td>\n",
       "      <td>1.368922</td>\n",
       "      <td>1.029175</td>\n",
       "      <td>1</td>\n",
       "      <td>1.114286</td>\n",
       "      <td>0.433013</td>\n",
       "      <td>0.444697</td>\n",
       "      <td>19.00</td>\n",
       "    </tr>\n",
       "    <tr>\n",
       "      <th>3</th>\n",
       "      <td>4</td>\n",
       "      <td>88.944468</td>\n",
       "      <td>57.873967</td>\n",
       "      <td>66.361592</td>\n",
       "      <td>36.119560</td>\n",
       "      <td>1.181795</td>\n",
       "      <td>1.022291</td>\n",
       "      <td>122.90607</td>\n",
       "      <td>33.768010</td>\n",
       "      <td>51.968828</td>\n",
       "      <td>...</td>\n",
       "      <td>2.264286</td>\n",
       "      <td>2.213364</td>\n",
       "      <td>2.226222</td>\n",
       "      <td>1.368922</td>\n",
       "      <td>1.048834</td>\n",
       "      <td>1</td>\n",
       "      <td>1.100000</td>\n",
       "      <td>0.433013</td>\n",
       "      <td>0.440952</td>\n",
       "      <td>22.00</td>\n",
       "    </tr>\n",
       "    <tr>\n",
       "      <th>4</th>\n",
       "      <td>4</td>\n",
       "      <td>88.944468</td>\n",
       "      <td>57.840143</td>\n",
       "      <td>66.361592</td>\n",
       "      <td>36.110716</td>\n",
       "      <td>1.181795</td>\n",
       "      <td>1.129224</td>\n",
       "      <td>122.90607</td>\n",
       "      <td>27.848743</td>\n",
       "      <td>51.968828</td>\n",
       "      <td>...</td>\n",
       "      <td>2.242857</td>\n",
       "      <td>2.213364</td>\n",
       "      <td>2.206963</td>\n",
       "      <td>1.368922</td>\n",
       "      <td>1.096052</td>\n",
       "      <td>1</td>\n",
       "      <td>1.057143</td>\n",
       "      <td>0.433013</td>\n",
       "      <td>0.428809</td>\n",
       "      <td>23.00</td>\n",
       "    </tr>\n",
       "    <tr>\n",
       "      <th>...</th>\n",
       "      <td>...</td>\n",
       "      <td>...</td>\n",
       "      <td>...</td>\n",
       "      <td>...</td>\n",
       "      <td>...</td>\n",
       "      <td>...</td>\n",
       "      <td>...</td>\n",
       "      <td>...</td>\n",
       "      <td>...</td>\n",
       "      <td>...</td>\n",
       "      <td>...</td>\n",
       "      <td>...</td>\n",
       "      <td>...</td>\n",
       "      <td>...</td>\n",
       "      <td>...</td>\n",
       "      <td>...</td>\n",
       "      <td>...</td>\n",
       "      <td>...</td>\n",
       "      <td>...</td>\n",
       "      <td>...</td>\n",
       "      <td>...</td>\n",
       "    </tr>\n",
       "    <tr>\n",
       "      <th>21258</th>\n",
       "      <td>4</td>\n",
       "      <td>106.957877</td>\n",
       "      <td>53.095769</td>\n",
       "      <td>82.515384</td>\n",
       "      <td>43.135565</td>\n",
       "      <td>1.177145</td>\n",
       "      <td>1.254119</td>\n",
       "      <td>146.88130</td>\n",
       "      <td>15.504479</td>\n",
       "      <td>65.764081</td>\n",
       "      <td>...</td>\n",
       "      <td>3.555556</td>\n",
       "      <td>3.223710</td>\n",
       "      <td>3.519911</td>\n",
       "      <td>1.377820</td>\n",
       "      <td>0.913658</td>\n",
       "      <td>1</td>\n",
       "      <td>2.168889</td>\n",
       "      <td>0.433013</td>\n",
       "      <td>0.496904</td>\n",
       "      <td>2.44</td>\n",
       "    </tr>\n",
       "    <tr>\n",
       "      <th>21259</th>\n",
       "      <td>5</td>\n",
       "      <td>92.266740</td>\n",
       "      <td>49.021367</td>\n",
       "      <td>64.812662</td>\n",
       "      <td>32.867748</td>\n",
       "      <td>1.323287</td>\n",
       "      <td>1.571630</td>\n",
       "      <td>188.38390</td>\n",
       "      <td>7.353333</td>\n",
       "      <td>69.232655</td>\n",
       "      <td>...</td>\n",
       "      <td>2.047619</td>\n",
       "      <td>2.168944</td>\n",
       "      <td>2.038991</td>\n",
       "      <td>1.594167</td>\n",
       "      <td>1.337246</td>\n",
       "      <td>1</td>\n",
       "      <td>0.904762</td>\n",
       "      <td>0.400000</td>\n",
       "      <td>0.212959</td>\n",
       "      <td>122.10</td>\n",
       "    </tr>\n",
       "    <tr>\n",
       "      <th>21260</th>\n",
       "      <td>2</td>\n",
       "      <td>99.663190</td>\n",
       "      <td>95.609104</td>\n",
       "      <td>99.433882</td>\n",
       "      <td>95.464320</td>\n",
       "      <td>0.690847</td>\n",
       "      <td>0.530198</td>\n",
       "      <td>13.51362</td>\n",
       "      <td>53.041104</td>\n",
       "      <td>6.756810</td>\n",
       "      <td>...</td>\n",
       "      <td>4.800000</td>\n",
       "      <td>4.472136</td>\n",
       "      <td>4.781762</td>\n",
       "      <td>0.686962</td>\n",
       "      <td>0.450561</td>\n",
       "      <td>1</td>\n",
       "      <td>3.200000</td>\n",
       "      <td>0.500000</td>\n",
       "      <td>0.400000</td>\n",
       "      <td>1.98</td>\n",
       "    </tr>\n",
       "    <tr>\n",
       "      <th>21261</th>\n",
       "      <td>2</td>\n",
       "      <td>99.663190</td>\n",
       "      <td>97.095602</td>\n",
       "      <td>99.433882</td>\n",
       "      <td>96.901083</td>\n",
       "      <td>0.690847</td>\n",
       "      <td>0.640883</td>\n",
       "      <td>13.51362</td>\n",
       "      <td>31.115202</td>\n",
       "      <td>6.756810</td>\n",
       "      <td>...</td>\n",
       "      <td>4.690000</td>\n",
       "      <td>4.472136</td>\n",
       "      <td>4.665819</td>\n",
       "      <td>0.686962</td>\n",
       "      <td>0.577601</td>\n",
       "      <td>1</td>\n",
       "      <td>2.210000</td>\n",
       "      <td>0.500000</td>\n",
       "      <td>0.462493</td>\n",
       "      <td>1.84</td>\n",
       "    </tr>\n",
       "    <tr>\n",
       "      <th>21262</th>\n",
       "      <td>3</td>\n",
       "      <td>87.468333</td>\n",
       "      <td>86.858500</td>\n",
       "      <td>82.555758</td>\n",
       "      <td>80.458722</td>\n",
       "      <td>1.041270</td>\n",
       "      <td>0.895229</td>\n",
       "      <td>71.75500</td>\n",
       "      <td>43.144000</td>\n",
       "      <td>29.905282</td>\n",
       "      <td>...</td>\n",
       "      <td>4.500000</td>\n",
       "      <td>4.762203</td>\n",
       "      <td>4.242641</td>\n",
       "      <td>1.054920</td>\n",
       "      <td>0.970116</td>\n",
       "      <td>3</td>\n",
       "      <td>1.800000</td>\n",
       "      <td>1.414214</td>\n",
       "      <td>1.500000</td>\n",
       "      <td>12.80</td>\n",
       "    </tr>\n",
       "  </tbody>\n",
       "</table>\n",
       "<p>21263 rows × 82 columns</p>\n",
       "</div>"
      ],
      "text/plain": [
       "       number_of_elements  mean_atomic_mass  wtd_mean_atomic_mass  \\\n",
       "0                       4         88.944468             57.862692   \n",
       "1                       5         92.729214             58.518416   \n",
       "2                       4         88.944468             57.885242   \n",
       "3                       4         88.944468             57.873967   \n",
       "4                       4         88.944468             57.840143   \n",
       "...                   ...               ...                   ...   \n",
       "21258                   4        106.957877             53.095769   \n",
       "21259                   5         92.266740             49.021367   \n",
       "21260                   2         99.663190             95.609104   \n",
       "21261                   2         99.663190             97.095602   \n",
       "21262                   3         87.468333             86.858500   \n",
       "\n",
       "       gmean_atomic_mass  wtd_gmean_atomic_mass  entropy_atomic_mass  \\\n",
       "0              66.361592              36.116612             1.181795   \n",
       "1              73.132787              36.396602             1.449309   \n",
       "2              66.361592              36.122509             1.181795   \n",
       "3              66.361592              36.119560             1.181795   \n",
       "4              66.361592              36.110716             1.181795   \n",
       "...                  ...                    ...                  ...   \n",
       "21258          82.515384              43.135565             1.177145   \n",
       "21259          64.812662              32.867748             1.323287   \n",
       "21260          99.433882              95.464320             0.690847   \n",
       "21261          99.433882              96.901083             0.690847   \n",
       "21262          82.555758              80.458722             1.041270   \n",
       "\n",
       "       wtd_entropy_atomic_mass  range_atomic_mass  wtd_range_atomic_mass  \\\n",
       "0                     1.062396          122.90607              31.794921   \n",
       "1                     1.057755          122.90607              36.161939   \n",
       "2                     0.975980          122.90607              35.741099   \n",
       "3                     1.022291          122.90607              33.768010   \n",
       "4                     1.129224          122.90607              27.848743   \n",
       "...                        ...                ...                    ...   \n",
       "21258                 1.254119          146.88130              15.504479   \n",
       "21259                 1.571630          188.38390               7.353333   \n",
       "21260                 0.530198           13.51362              53.041104   \n",
       "21261                 0.640883           13.51362              31.115202   \n",
       "21262                 0.895229           71.75500              43.144000   \n",
       "\n",
       "       std_atomic_mass  ...  wtd_mean_Valence  gmean_Valence  \\\n",
       "0            51.968828  ...          2.257143       2.213364   \n",
       "1            47.094633  ...          2.257143       1.888175   \n",
       "2            51.968828  ...          2.271429       2.213364   \n",
       "3            51.968828  ...          2.264286       2.213364   \n",
       "4            51.968828  ...          2.242857       2.213364   \n",
       "...                ...  ...               ...            ...   \n",
       "21258        65.764081  ...          3.555556       3.223710   \n",
       "21259        69.232655  ...          2.047619       2.168944   \n",
       "21260         6.756810  ...          4.800000       4.472136   \n",
       "21261         6.756810  ...          4.690000       4.472136   \n",
       "21262        29.905282  ...          4.500000       4.762203   \n",
       "\n",
       "       wtd_gmean_Valence  entropy_Valence  wtd_entropy_Valence  range_Valence  \\\n",
       "0               2.219783         1.368922             1.066221              1   \n",
       "1               2.210679         1.557113             1.047221              2   \n",
       "2               2.232679         1.368922             1.029175              1   \n",
       "3               2.226222         1.368922             1.048834              1   \n",
       "4               2.206963         1.368922             1.096052              1   \n",
       "...                  ...              ...                  ...            ...   \n",
       "21258           3.519911         1.377820             0.913658              1   \n",
       "21259           2.038991         1.594167             1.337246              1   \n",
       "21260           4.781762         0.686962             0.450561              1   \n",
       "21261           4.665819         0.686962             0.577601              1   \n",
       "21262           4.242641         1.054920             0.970116              3   \n",
       "\n",
       "       wtd_range_Valence  std_Valence  wtd_std_Valence  critical_temp  \n",
       "0               1.085714     0.433013         0.437059          29.00  \n",
       "1               1.128571     0.632456         0.468606          26.00  \n",
       "2               1.114286     0.433013         0.444697          19.00  \n",
       "3               1.100000     0.433013         0.440952          22.00  \n",
       "4               1.057143     0.433013         0.428809          23.00  \n",
       "...                  ...          ...              ...            ...  \n",
       "21258           2.168889     0.433013         0.496904           2.44  \n",
       "21259           0.904762     0.400000         0.212959         122.10  \n",
       "21260           3.200000     0.500000         0.400000           1.98  \n",
       "21261           2.210000     0.500000         0.462493           1.84  \n",
       "21262           1.800000     1.414214         1.500000          12.80  \n",
       "\n",
       "[21263 rows x 82 columns]"
      ]
     },
     "execution_count": 3,
     "metadata": {},
     "output_type": "execute_result"
    }
   ],
   "source": [
    "train"
   ]
  },
  {
   "cell_type": "code",
   "execution_count": 4,
   "id": "b5eb76f5",
   "metadata": {
    "colab": {
     "base_uri": "https://localhost:8080/",
     "height": 423
    },
    "id": "b5eb76f5",
    "outputId": "40cbf0a3-2e43-4fa1-8bd4-6cb18148e825"
   },
   "outputs": [],
   "source": [
    "unique = pd.read_csv(\"unique_m.csv\")"
   ]
  },
  {
   "cell_type": "code",
   "execution_count": 5,
   "id": "220aa8da",
   "metadata": {},
   "outputs": [
    {
     "data": {
      "text/html": [
       "<div>\n",
       "<style scoped>\n",
       "    .dataframe tbody tr th:only-of-type {\n",
       "        vertical-align: middle;\n",
       "    }\n",
       "\n",
       "    .dataframe tbody tr th {\n",
       "        vertical-align: top;\n",
       "    }\n",
       "\n",
       "    .dataframe thead th {\n",
       "        text-align: right;\n",
       "    }\n",
       "</style>\n",
       "<table border=\"1\" class=\"dataframe\">\n",
       "  <thead>\n",
       "    <tr style=\"text-align: right;\">\n",
       "      <th></th>\n",
       "      <th>H</th>\n",
       "      <th>He</th>\n",
       "      <th>Li</th>\n",
       "      <th>Be</th>\n",
       "      <th>B</th>\n",
       "      <th>C</th>\n",
       "      <th>N</th>\n",
       "      <th>O</th>\n",
       "      <th>F</th>\n",
       "      <th>Ne</th>\n",
       "      <th>...</th>\n",
       "      <th>Au</th>\n",
       "      <th>Hg</th>\n",
       "      <th>Tl</th>\n",
       "      <th>Pb</th>\n",
       "      <th>Bi</th>\n",
       "      <th>Po</th>\n",
       "      <th>At</th>\n",
       "      <th>Rn</th>\n",
       "      <th>critical_temp</th>\n",
       "      <th>material</th>\n",
       "    </tr>\n",
       "  </thead>\n",
       "  <tbody>\n",
       "    <tr>\n",
       "      <th>0</th>\n",
       "      <td>0.0</td>\n",
       "      <td>0</td>\n",
       "      <td>0.0</td>\n",
       "      <td>0.0</td>\n",
       "      <td>0.0</td>\n",
       "      <td>0.0</td>\n",
       "      <td>0.0</td>\n",
       "      <td>4.0</td>\n",
       "      <td>0.0</td>\n",
       "      <td>0</td>\n",
       "      <td>...</td>\n",
       "      <td>0.0</td>\n",
       "      <td>0.0</td>\n",
       "      <td>0.0</td>\n",
       "      <td>0.0</td>\n",
       "      <td>0.0</td>\n",
       "      <td>0</td>\n",
       "      <td>0</td>\n",
       "      <td>0</td>\n",
       "      <td>29.00</td>\n",
       "      <td>Ba0.2La1.8Cu1O4</td>\n",
       "    </tr>\n",
       "    <tr>\n",
       "      <th>1</th>\n",
       "      <td>0.0</td>\n",
       "      <td>0</td>\n",
       "      <td>0.0</td>\n",
       "      <td>0.0</td>\n",
       "      <td>0.0</td>\n",
       "      <td>0.0</td>\n",
       "      <td>0.0</td>\n",
       "      <td>4.0</td>\n",
       "      <td>0.0</td>\n",
       "      <td>0</td>\n",
       "      <td>...</td>\n",
       "      <td>0.0</td>\n",
       "      <td>0.0</td>\n",
       "      <td>0.0</td>\n",
       "      <td>0.0</td>\n",
       "      <td>0.0</td>\n",
       "      <td>0</td>\n",
       "      <td>0</td>\n",
       "      <td>0</td>\n",
       "      <td>26.00</td>\n",
       "      <td>Ba0.1La1.9Ag0.1Cu0.9O4</td>\n",
       "    </tr>\n",
       "    <tr>\n",
       "      <th>2</th>\n",
       "      <td>0.0</td>\n",
       "      <td>0</td>\n",
       "      <td>0.0</td>\n",
       "      <td>0.0</td>\n",
       "      <td>0.0</td>\n",
       "      <td>0.0</td>\n",
       "      <td>0.0</td>\n",
       "      <td>4.0</td>\n",
       "      <td>0.0</td>\n",
       "      <td>0</td>\n",
       "      <td>...</td>\n",
       "      <td>0.0</td>\n",
       "      <td>0.0</td>\n",
       "      <td>0.0</td>\n",
       "      <td>0.0</td>\n",
       "      <td>0.0</td>\n",
       "      <td>0</td>\n",
       "      <td>0</td>\n",
       "      <td>0</td>\n",
       "      <td>19.00</td>\n",
       "      <td>Ba0.1La1.9Cu1O4</td>\n",
       "    </tr>\n",
       "    <tr>\n",
       "      <th>3</th>\n",
       "      <td>0.0</td>\n",
       "      <td>0</td>\n",
       "      <td>0.0</td>\n",
       "      <td>0.0</td>\n",
       "      <td>0.0</td>\n",
       "      <td>0.0</td>\n",
       "      <td>0.0</td>\n",
       "      <td>4.0</td>\n",
       "      <td>0.0</td>\n",
       "      <td>0</td>\n",
       "      <td>...</td>\n",
       "      <td>0.0</td>\n",
       "      <td>0.0</td>\n",
       "      <td>0.0</td>\n",
       "      <td>0.0</td>\n",
       "      <td>0.0</td>\n",
       "      <td>0</td>\n",
       "      <td>0</td>\n",
       "      <td>0</td>\n",
       "      <td>22.00</td>\n",
       "      <td>Ba0.15La1.85Cu1O4</td>\n",
       "    </tr>\n",
       "    <tr>\n",
       "      <th>4</th>\n",
       "      <td>0.0</td>\n",
       "      <td>0</td>\n",
       "      <td>0.0</td>\n",
       "      <td>0.0</td>\n",
       "      <td>0.0</td>\n",
       "      <td>0.0</td>\n",
       "      <td>0.0</td>\n",
       "      <td>4.0</td>\n",
       "      <td>0.0</td>\n",
       "      <td>0</td>\n",
       "      <td>...</td>\n",
       "      <td>0.0</td>\n",
       "      <td>0.0</td>\n",
       "      <td>0.0</td>\n",
       "      <td>0.0</td>\n",
       "      <td>0.0</td>\n",
       "      <td>0</td>\n",
       "      <td>0</td>\n",
       "      <td>0</td>\n",
       "      <td>23.00</td>\n",
       "      <td>Ba0.3La1.7Cu1O4</td>\n",
       "    </tr>\n",
       "    <tr>\n",
       "      <th>...</th>\n",
       "      <td>...</td>\n",
       "      <td>...</td>\n",
       "      <td>...</td>\n",
       "      <td>...</td>\n",
       "      <td>...</td>\n",
       "      <td>...</td>\n",
       "      <td>...</td>\n",
       "      <td>...</td>\n",
       "      <td>...</td>\n",
       "      <td>...</td>\n",
       "      <td>...</td>\n",
       "      <td>...</td>\n",
       "      <td>...</td>\n",
       "      <td>...</td>\n",
       "      <td>...</td>\n",
       "      <td>...</td>\n",
       "      <td>...</td>\n",
       "      <td>...</td>\n",
       "      <td>...</td>\n",
       "      <td>...</td>\n",
       "      <td>...</td>\n",
       "    </tr>\n",
       "    <tr>\n",
       "      <th>21258</th>\n",
       "      <td>0.0</td>\n",
       "      <td>0</td>\n",
       "      <td>0.0</td>\n",
       "      <td>0.0</td>\n",
       "      <td>0.0</td>\n",
       "      <td>0.0</td>\n",
       "      <td>0.0</td>\n",
       "      <td>0.0</td>\n",
       "      <td>0.0</td>\n",
       "      <td>0</td>\n",
       "      <td>...</td>\n",
       "      <td>0.0</td>\n",
       "      <td>0.0</td>\n",
       "      <td>0.0</td>\n",
       "      <td>0.0</td>\n",
       "      <td>0.0</td>\n",
       "      <td>0</td>\n",
       "      <td>0</td>\n",
       "      <td>0</td>\n",
       "      <td>2.44</td>\n",
       "      <td>Tm0.84Lu0.16Fe3Si5</td>\n",
       "    </tr>\n",
       "    <tr>\n",
       "      <th>21259</th>\n",
       "      <td>0.0</td>\n",
       "      <td>0</td>\n",
       "      <td>0.0</td>\n",
       "      <td>0.0</td>\n",
       "      <td>0.0</td>\n",
       "      <td>0.0</td>\n",
       "      <td>0.0</td>\n",
       "      <td>11.0</td>\n",
       "      <td>0.0</td>\n",
       "      <td>0</td>\n",
       "      <td>...</td>\n",
       "      <td>0.0</td>\n",
       "      <td>0.0</td>\n",
       "      <td>1.0</td>\n",
       "      <td>0.0</td>\n",
       "      <td>0.0</td>\n",
       "      <td>0</td>\n",
       "      <td>0</td>\n",
       "      <td>0</td>\n",
       "      <td>122.10</td>\n",
       "      <td>Tl1Ba2Ca3Cu4O11</td>\n",
       "    </tr>\n",
       "    <tr>\n",
       "      <th>21260</th>\n",
       "      <td>0.0</td>\n",
       "      <td>0</td>\n",
       "      <td>0.0</td>\n",
       "      <td>0.0</td>\n",
       "      <td>0.0</td>\n",
       "      <td>0.0</td>\n",
       "      <td>0.0</td>\n",
       "      <td>0.0</td>\n",
       "      <td>0.0</td>\n",
       "      <td>0</td>\n",
       "      <td>...</td>\n",
       "      <td>0.0</td>\n",
       "      <td>0.0</td>\n",
       "      <td>0.0</td>\n",
       "      <td>0.0</td>\n",
       "      <td>0.0</td>\n",
       "      <td>0</td>\n",
       "      <td>0</td>\n",
       "      <td>0</td>\n",
       "      <td>1.98</td>\n",
       "      <td>Nb0.8Pd0.2</td>\n",
       "    </tr>\n",
       "    <tr>\n",
       "      <th>21261</th>\n",
       "      <td>0.0</td>\n",
       "      <td>0</td>\n",
       "      <td>0.0</td>\n",
       "      <td>0.0</td>\n",
       "      <td>0.0</td>\n",
       "      <td>0.0</td>\n",
       "      <td>0.0</td>\n",
       "      <td>0.0</td>\n",
       "      <td>0.0</td>\n",
       "      <td>0</td>\n",
       "      <td>...</td>\n",
       "      <td>0.0</td>\n",
       "      <td>0.0</td>\n",
       "      <td>0.0</td>\n",
       "      <td>0.0</td>\n",
       "      <td>0.0</td>\n",
       "      <td>0</td>\n",
       "      <td>0</td>\n",
       "      <td>0</td>\n",
       "      <td>1.84</td>\n",
       "      <td>Nb0.69Pd0.31</td>\n",
       "    </tr>\n",
       "    <tr>\n",
       "      <th>21262</th>\n",
       "      <td>0.0</td>\n",
       "      <td>0</td>\n",
       "      <td>0.0</td>\n",
       "      <td>0.0</td>\n",
       "      <td>0.0</td>\n",
       "      <td>0.0</td>\n",
       "      <td>0.0</td>\n",
       "      <td>0.0</td>\n",
       "      <td>0.0</td>\n",
       "      <td>0</td>\n",
       "      <td>...</td>\n",
       "      <td>0.0</td>\n",
       "      <td>0.0</td>\n",
       "      <td>0.0</td>\n",
       "      <td>0.0</td>\n",
       "      <td>0.0</td>\n",
       "      <td>0</td>\n",
       "      <td>0</td>\n",
       "      <td>0</td>\n",
       "      <td>12.80</td>\n",
       "      <td>Fe1Se0.2Te0.8</td>\n",
       "    </tr>\n",
       "  </tbody>\n",
       "</table>\n",
       "<p>21263 rows × 88 columns</p>\n",
       "</div>"
      ],
      "text/plain": [
       "         H  He   Li   Be    B    C    N     O    F  Ne  ...   Au   Hg   Tl  \\\n",
       "0      0.0   0  0.0  0.0  0.0  0.0  0.0   4.0  0.0   0  ...  0.0  0.0  0.0   \n",
       "1      0.0   0  0.0  0.0  0.0  0.0  0.0   4.0  0.0   0  ...  0.0  0.0  0.0   \n",
       "2      0.0   0  0.0  0.0  0.0  0.0  0.0   4.0  0.0   0  ...  0.0  0.0  0.0   \n",
       "3      0.0   0  0.0  0.0  0.0  0.0  0.0   4.0  0.0   0  ...  0.0  0.0  0.0   \n",
       "4      0.0   0  0.0  0.0  0.0  0.0  0.0   4.0  0.0   0  ...  0.0  0.0  0.0   \n",
       "...    ...  ..  ...  ...  ...  ...  ...   ...  ...  ..  ...  ...  ...  ...   \n",
       "21258  0.0   0  0.0  0.0  0.0  0.0  0.0   0.0  0.0   0  ...  0.0  0.0  0.0   \n",
       "21259  0.0   0  0.0  0.0  0.0  0.0  0.0  11.0  0.0   0  ...  0.0  0.0  1.0   \n",
       "21260  0.0   0  0.0  0.0  0.0  0.0  0.0   0.0  0.0   0  ...  0.0  0.0  0.0   \n",
       "21261  0.0   0  0.0  0.0  0.0  0.0  0.0   0.0  0.0   0  ...  0.0  0.0  0.0   \n",
       "21262  0.0   0  0.0  0.0  0.0  0.0  0.0   0.0  0.0   0  ...  0.0  0.0  0.0   \n",
       "\n",
       "        Pb   Bi  Po  At  Rn  critical_temp                material  \n",
       "0      0.0  0.0   0   0   0          29.00         Ba0.2La1.8Cu1O4  \n",
       "1      0.0  0.0   0   0   0          26.00  Ba0.1La1.9Ag0.1Cu0.9O4  \n",
       "2      0.0  0.0   0   0   0          19.00         Ba0.1La1.9Cu1O4  \n",
       "3      0.0  0.0   0   0   0          22.00       Ba0.15La1.85Cu1O4  \n",
       "4      0.0  0.0   0   0   0          23.00         Ba0.3La1.7Cu1O4  \n",
       "...    ...  ...  ..  ..  ..            ...                     ...  \n",
       "21258  0.0  0.0   0   0   0           2.44      Tm0.84Lu0.16Fe3Si5  \n",
       "21259  0.0  0.0   0   0   0         122.10         Tl1Ba2Ca3Cu4O11  \n",
       "21260  0.0  0.0   0   0   0           1.98              Nb0.8Pd0.2  \n",
       "21261  0.0  0.0   0   0   0           1.84            Nb0.69Pd0.31  \n",
       "21262  0.0  0.0   0   0   0          12.80           Fe1Se0.2Te0.8  \n",
       "\n",
       "[21263 rows x 88 columns]"
      ]
     },
     "execution_count": 5,
     "metadata": {},
     "output_type": "execute_result"
    }
   ],
   "source": [
    "unique"
   ]
  },
  {
   "cell_type": "code",
   "execution_count": 6,
   "id": "610b6534",
   "metadata": {},
   "outputs": [],
   "source": [
    "unique = unique.drop(columns = ['critical_temp', 'material'])"
   ]
  },
  {
   "cell_type": "markdown",
   "id": "DDmriBySekUP",
   "metadata": {
    "id": "DDmriBySekUP"
   },
   "source": [
    "Both datasets were combined into a single dataset before performing dimensionality reduction and creating the classification/regression models. In this way, the full dataset is used without losing any information or repeating the same lines of code for the two isolated datasets."
   ]
  },
  {
   "cell_type": "code",
   "execution_count": 7,
   "id": "0e9dad28",
   "metadata": {
    "colab": {
     "base_uri": "https://localhost:8080/"
    },
    "id": "0e9dad28",
    "outputId": "e3c40cda-051c-489f-af1b-1e0f91456ee4"
   },
   "outputs": [],
   "source": [
    "merged_df = pd.merge(train, unique, left_index=True, right_index=True)"
   ]
  },
  {
   "cell_type": "code",
   "execution_count": 8,
   "id": "2f16f7b8",
   "metadata": {},
   "outputs": [
    {
     "data": {
      "text/plain": [
       "0"
      ]
     },
     "execution_count": 8,
     "metadata": {},
     "output_type": "execute_result"
    }
   ],
   "source": [
    "merged_df.isnull().sum().sum()"
   ]
  },
  {
   "cell_type": "code",
   "execution_count": 9,
   "id": "0e2801bf",
   "metadata": {
    "id": "0e2801bf"
   },
   "outputs": [],
   "source": [
    "# Split the trainining and testing sets\n",
    "train_data = merged_df.drop('critical_temp', axis=1)\n",
    "train_labels = merged_df['critical_temp']\n",
    "\n",
    "# Split the data into a training set, a validation set, and a testing set\n",
    "x_trainval, x_test, y_trainval, y_test = train_test_split(train_data, train_labels, test_size=0.1, random_state=42)\n",
    "x_train, x_val, y_train, y_val = train_test_split(x_trainval, y_trainval, test_size=0.25, random_state=42)"
   ]
  },
  {
   "cell_type": "markdown",
   "id": "EuOKBduDu9Lb",
   "metadata": {
    "id": "EuOKBduDu9Lb"
   },
   "source": [
    "The following code maps the dependent variable, \"critical_temp\", into classes. "
   ]
  },
  {
   "cell_type": "code",
   "execution_count": 10,
   "id": "IgKIQ4Ehuh5U",
   "metadata": {
    "id": "IgKIQ4Ehuh5U"
   },
   "outputs": [],
   "source": [
    "bins = [0.0, 1.0, 5.0, 20.0, 100.0, 200.0]\n",
    "labels = [\"Very Low\", \"Low\", \"Medium\", \"High\", \"Very High\"]\n",
    "y_train_class = pd.cut(y_train, bins = bins, labels = labels, right = False, include_lowest = True)\n",
    "y_val_class = pd.cut(y_val, bins = bins, labels = labels, right = False, include_lowest = True)"
   ]
  },
  {
   "cell_type": "code",
   "execution_count": 11,
   "id": "34633443",
   "metadata": {},
   "outputs": [
    {
     "data": {
      "image/png": "[encoded data removed]",
      "text/plain": [
       "<Figure size 700x400 with 1 Axes>"
      ]
     },
     "metadata": {},
     "output_type": "display_data"
    }
   ],
   "source": [
    "value_counts = y_val_class.value_counts().reindex(labels)\n",
    "\n",
    "plt.figure(figsize=(7, 4))\n",
    "plt.bar(value_counts.index, value_counts.values, color='steelblue')\n",
    "plt.xlabel('Category', fontsize=12)\n",
    "plt.ylabel('Count', fontsize=12)\n",
    "plt.title('Distribution of Critical Temperature Categories', fontsize=14)\n",
    "plt.grid(axis='y', linestyle='--', alpha=0.7)\n",
    "plt.tight_layout()\n",
    "plt.show()"
   ]
  },
  {
   "cell_type": "markdown",
   "id": "eiA2tydOrj3p",
   "metadata": {
    "id": "eiA2tydOrj3p"
   },
   "source": [
    "## Dimensionality reduction"
   ]
  },
  {
   "cell_type": "code",
   "execution_count": 12,
   "id": "629ed3a2",
   "metadata": {
    "id": "629ed3a2"
   },
   "outputs": [],
   "source": [
    "# Create a scaler with training set\n",
    "scaler = StandardScaler()\n",
    "scaler.fit(x_train)\n",
    "x_train_scaled = scaler.transform(x_train)\n",
    "x_val_scaled = scaler.transform(x_val)\n",
    "x_test_scaled = scaler.transform(x_test)"
   ]
  },
  {
   "cell_type": "code",
   "execution_count": 13,
   "id": "54e01a5b",
   "metadata": {
    "colab": {
     "base_uri": "https://localhost:8080/",
     "height": 296
    },
    "id": "54e01a5b",
    "outputId": "fc9e4aa8-8b1e-4af6-c5af-5c871158e28a"
   },
   "outputs": [
    {
     "data": {
      "image/png": "[encoded data removed]",
      "text/plain": [
       "<Figure size 400x200 with 1 Axes>"
      ]
     },
     "metadata": {},
     "output_type": "display_data"
    },
    {
     "name": "stdout",
     "output_type": "stream",
     "text": [
      "The number of PCs at the point where the cumulative explained variance ratio is 0.9 is: 66\n"
     ]
    }
   ],
   "source": [
    "# Fit PCA to the scaled data\n",
    "pca = PCA().fit(x_train_scaled)\n",
    "\n",
    "# Calculate the cumulative sum of explained variance ratios\n",
    "cumulative_variance_ratio = np.cumsum(pca.explained_variance_ratio_)\n",
    "\n",
    "# Plot the cumulative sum\n",
    "plt.figure(figsize=(4,2))\n",
    "plt.plot(cumulative_variance_ratio)\n",
    "plt.axhline(y=0.90, color='r', linestyle='-')\n",
    "\n",
    "# Find index where cumulative explained variance ratio exceeds 0.90\n",
    "n_components = np.argmax(cumulative_variance_ratio >= 0.90)\n",
    "\n",
    "# Add marker for point where cumulative explained variance ratio equals 0.90\n",
    "plt.plot(n_components, cumulative_variance_ratio[n_components], 'bo')\n",
    "plt.xlabel('Number of components')\n",
    "plt.ylabel('Cumulative explained variance ratio')\n",
    "plt.show()\n",
    "\n",
    "print('The number of PCs at the point where the cumulative explained variance ratio is 0.9 is:', n_components+1)"
   ]
  },
  {
   "cell_type": "code",
   "execution_count": 14,
   "id": "4c8901cf",
   "metadata": {
    "colab": {
     "base_uri": "https://localhost:8080/"
    },
    "id": "4c8901cf",
    "outputId": "ba647211-186b-4d5d-a987-f5395ec0c872"
   },
   "outputs": [
    {
     "name": "stdout",
     "output_type": "stream",
     "text": [
      "PC1 - Variance explained:  0.2087 - Total Variance:  0.2087\n",
      "PC2 - Variance explained:  0.0582 - Total Variance:  0.2669\n",
      "PC3 - Variance explained:  0.0534 - Total Variance:  0.3203\n",
      "PC64 - Variance explained:  0.0052 - Total Variance:  0.8939\n",
      "PC65 - Variance explained:  0.0050 - Total Variance:  0.8989\n",
      "PC66 - Variance explained:  0.0049 - Total Variance:  0.9039\n"
     ]
    }
   ],
   "source": [
    "# Perform dimensionality reduction with PCA\n",
    "pca = PCA(n_components+1)\n",
    "pca.fit(x_train_scaled)\n",
    "tve = 0\n",
    "for i, ve in enumerate(pca.explained_variance_ratio_):\n",
    "    tve += ve\n",
    "    # The following if statements were added to print only the first and last 3 retained PCs.\n",
    "    if i < 3:\n",
    "        print(\"PC%d - Variance explained: %7.4f - Total Variance: %7.4f\" % (i+1, ve, tve))\n",
    "    if i > 62:\n",
    "        print(\"PC%d - Variance explained: %7.4f - Total Variance: %7.4f\" % (i+1, ve, tve))"
   ]
  },
  {
   "cell_type": "code",
   "execution_count": 15,
   "id": "f23a91e5",
   "metadata": {
    "id": "f23a91e5"
   },
   "outputs": [],
   "source": [
    "# Applying PCA to the training and validation sets\n",
    "x_train_transformed = pca.transform(x_train_scaled)\n",
    "x_val_transformed = pca.transform(x_val_scaled)"
   ]
  },
  {
   "cell_type": "markdown",
   "id": "6180479e",
   "metadata": {
    "id": "6180479e"
   },
   "source": [
    "## Regression models"
   ]
  },
  {
   "cell_type": "code",
   "execution_count": 16,
   "id": "07a865c0",
   "metadata": {},
   "outputs": [],
   "source": [
    "def print_regression_statistics(truth, preds):\n",
    "    \n",
    "    print(\"The RVE is: \", explained_variance_score(truth, preds))\n",
    "    print(\"The rmse is: \", root_mean_squared_error(truth, preds))\n",
    "    corr, pval = pearsonr(truth, preds)\n",
    "    print(\"The Correlation Score is is: %6.4f (p-value=%e)\"%(corr,pval))\n",
    "    print(\"The Maximum Error is is: \", max_error(truth, preds))\n",
    "    print(\"The Mean Absolute Error is: \", mean_absolute_error(truth, preds))"
   ]
  },
  {
   "cell_type": "markdown",
   "id": "1fa2d222",
   "metadata": {},
   "source": [
    "**Linear Regression**"
   ]
  },
  {
   "cell_type": "code",
   "execution_count": 17,
   "id": "b34fcd83",
   "metadata": {},
   "outputs": [
    {
     "name": "stdout",
     "output_type": "stream",
     "text": [
      "Full dataset model (Linear Regression) performance:\n",
      "The RVE is:  0.7623142440304607\n",
      "The rmse is:  16.68154376979702\n",
      "The Correlation Score is is: 0.8732 (p-value=0.000000e+00)\n",
      "The Maximum Error is is:  133.22635521436055\n",
      "The Mean Absolute Error is:  12.37740720425595\n",
      "\n",
      "PCA transformed dataset model (Linear Regression) performance:\n",
      "The RVE is:  0.6648722523269839\n",
      "The rmse is:  19.80496670038947\n",
      "The Correlation Score is is: 0.8154 (p-value=0.000000e+00)\n",
      "The Maximum Error is is:  198.16354410479505\n",
      "The Mean Absolute Error is:  14.73243184038409\n"
     ]
    }
   ],
   "source": [
    "# Full dataset model\n",
    "reg_full = LinearRegression()\n",
    "reg_full.fit(x_train_scaled, y_train)\n",
    "y_pred_full = reg_full.predict(x_val_scaled)\n",
    "print(\"Full dataset model (Linear Regression) performance:\")\n",
    "print_regression_statistics(y_val, y_pred_full)\n",
    "\n",
    "# PCA transformed dataset model\n",
    "reg_pca = LinearRegression()\n",
    "reg_pca.fit(x_train_transformed, y_train)\n",
    "y_pred_pca = reg_pca.predict(x_val_transformed)\n",
    "print(\"\\nPCA transformed dataset model (Linear Regression) performance:\")\n",
    "print_regression_statistics(y_val, y_pred_pca)"
   ]
  },
  {
   "cell_type": "markdown",
   "id": "91698e22",
   "metadata": {},
   "source": [
    "**Decision Tree Regressor**"
   ]
  },
  {
   "cell_type": "code",
   "execution_count": 18,
   "id": "18d8d39b",
   "metadata": {},
   "outputs": [
    {
     "name": "stdout",
     "output_type": "stream",
     "text": [
      "Full dataset model (Decision Tree Regressor) performance:\n",
      "The RVE is:  0.8672173634563035\n",
      "The rmse is:  12.459229774286932\n",
      "The Correlation Score is is: 0.9334 (p-value=0.000000e+00)\n",
      "The Maximum Error is is:  168.0\n",
      "The Mean Absolute Error is:  6.230421284844905\n",
      "\n",
      "PCA transformed dataset model (Decision Tree Regressor) performance:\n",
      "The RVE is:  0.8507515191518852\n",
      "The rmse is:  13.212862852811961\n",
      "The Correlation Score is is: 0.9251 (p-value=0.000000e+00)\n",
      "The Maximum Error is is:  130.2\n",
      "The Mean Absolute Error is:  6.7425689236683874\n"
     ]
    }
   ],
   "source": [
    "# Full dataset model\n",
    "tree_full = DecisionTreeRegressor()\n",
    "tree_full.fit(x_train_scaled, y_train)\n",
    "y_pred_full = tree_full.predict(x_val_scaled)\n",
    "print(\"Full dataset model (Decision Tree Regressor) performance:\")\n",
    "print_regression_statistics(y_val, y_pred_full)\n",
    "\n",
    "# PCA transformed dataset model\n",
    "tree_pca = DecisionTreeRegressor()\n",
    "tree_pca.fit(x_train_transformed, y_train)\n",
    "y_pred_pca = tree_pca.predict(x_val_transformed)\n",
    "print(\"\\nPCA transformed dataset model (Decision Tree Regressor) performance:\")\n",
    "print_regression_statistics(y_val, y_pred_pca)"
   ]
  },
  {
   "cell_type": "markdown",
   "id": "1baacff0",
   "metadata": {
    "id": "1baacff0"
   },
   "source": [
    "## Classification models"
   ]
  },
  {
   "cell_type": "markdown",
   "id": "66cb3737",
   "metadata": {},
   "source": [
    "**Gaussian Naïve Bayes**"
   ]
  },
  {
   "cell_type": "code",
   "execution_count": 19,
   "id": "f3848767",
   "metadata": {},
   "outputs": [],
   "source": [
    "def print_classification_statistics(y_test, preds):\n",
    "    \n",
    "    print(\"The F1 score is: %7.4f\" % f1_score(y_test, preds, average = \"macro\"))\n",
    "    print(\"The MCC score is: %7.4f\" % matthews_corrcoef(y_test, preds))\n",
    "    print(\"The precision score is: %7.4f\" %  precision_score(y_test, preds, average = \"macro\"))\n",
    "    print(\"The recall score is: %7.4f\" %  recall_score(y_test, preds, average = \"macro\"))\n",
    "    print(\"The accuracy is: \", accuracy_score(y_test, preds))"
   ]
  },
  {
   "cell_type": "code",
   "execution_count": 20,
   "id": "b76ce594",
   "metadata": {},
   "outputs": [
    {
     "name": "stdout",
     "output_type": "stream",
     "text": [
      "Full dataset model (Naive Bayes) performance:\n",
      "The F1 score is:  0.3578\n",
      "The MCC score is:  0.3322\n",
      "The precision score is:  0.4538\n",
      "The recall score is:  0.5652\n",
      "The accuracy is:  0.46258361204013376\n",
      "\n",
      "PCA transformed dataset model (Naive Bayes) performance:\n",
      "The F1 score is:  0.3575\n",
      "The MCC score is:  0.2024\n",
      "The precision score is:  0.3745\n",
      "The recall score is:  0.4288\n",
      "The accuracy is:  0.48181438127090304\n"
     ]
    }
   ],
   "source": [
    "nb_full = GaussianNB()\n",
    "nb_full.fit(x_train_scaled, y_train_class)\n",
    "y_pred_full_nb = nb_full.predict(x_val_scaled)\n",
    "print(\"Full dataset model (Naive Bayes) performance:\")\n",
    "print_classification_statistics(y_val_class, y_pred_full_nb)\n",
    "\n",
    "nb_pca = GaussianNB()\n",
    "nb_pca.fit(x_train_transformed, y_train_class)\n",
    "y_pred_pca_nb = nb_pca.predict(x_val_transformed)\n",
    "print(\"\\nPCA transformed dataset model (Naive Bayes) performance:\")\n",
    "print_classification_statistics(y_val_class, y_pred_pca_nb)"
   ]
  },
  {
   "cell_type": "markdown",
   "id": "9d41c642",
   "metadata": {},
   "source": [
    "**Decision Tree Classifier**"
   ]
  },
  {
   "cell_type": "code",
   "execution_count": 21,
   "id": "ef35b463",
   "metadata": {},
   "outputs": [
    {
     "name": "stdout",
     "output_type": "stream",
     "text": [
      "Full dataset model (Decision Tree) performance:\n",
      "The F1 score is:  0.8014\n",
      "The MCC score is:  0.7677\n",
      "The precision score is:  0.8121\n",
      "The recall score is:  0.7917\n",
      "The accuracy is:  0.8434364548494984\n",
      "\n",
      "PCA transformed dataset model (Decision Tree) performance:\n",
      "The F1 score is:  0.7686\n",
      "The MCC score is:  0.7401\n",
      "The precision score is:  0.7751\n",
      "The recall score is:  0.7627\n",
      "The accuracy is:  0.8244147157190636\n"
     ]
    }
   ],
   "source": [
    "tree_full_c = DecisionTreeClassifier()\n",
    "tree_full_c.fit(x_train_scaled, y_train_class)\n",
    "y_pred_full_tree = tree_full_c.predict(x_val_scaled)\n",
    "print(\"Full dataset model (Decision Tree) performance:\")\n",
    "print_classification_statistics(y_val_class, y_pred_full_tree)\n",
    "\n",
    "tree_pca_c = DecisionTreeClassifier()\n",
    "tree_pca_c.fit(x_train_transformed, y_train_class)\n",
    "y_pred_pca_tree = tree_pca_c.predict(x_val_transformed)\n",
    "print(\"\\nPCA transformed dataset model (Decision Tree) performance:\")\n",
    "print_classification_statistics(y_val_class, y_pred_pca_tree)"
   ]
  },
  {
   "cell_type": "markdown",
   "id": "63508c93",
   "metadata": {
    "id": "63508c93"
   },
   "source": [
    "## Best model - Decision tree regressor with the full dataset (without prior dimensionality reduction with PCA)"
   ]
  },
  {
   "cell_type": "code",
   "execution_count": 22,
   "id": "8ab0d030",
   "metadata": {
    "colab": {
     "base_uri": "https://localhost:8080/"
    },
    "id": "8ab0d030",
    "outputId": "7ba6e26d-4d2b-420b-fefc-b834d5201cdd"
   },
   "outputs": [
    {
     "name": "stdout",
     "output_type": "stream",
     "text": [
      "The RVE is:  0.8873437822766683\n",
      "The rmse is:  11.36708184374981\n",
      "The Correlation Score is is: 0.9434 (p-value=0.000000e+00)\n",
      "The Maximum Error is is:  97.0\n",
      "The Mean Absolute Error is:  6.070683542782183\n"
     ]
    }
   ],
   "source": [
    "y_pred_test = tree_full.predict(x_test_scaled)\n",
    "print_regression_statistics(y_test, y_pred_test)"
   ]
  },
  {
   "cell_type": "code",
   "execution_count": 23,
   "id": "3634773c",
   "metadata": {
    "colab": {
     "base_uri": "https://localhost:8080/",
     "height": 428
    },
    "id": "3634773c",
    "outputId": "6e5c2061-9d3a-4667-bc94-40429a7cf8ed"
   },
   "outputs": [
    {
     "data": {
      "image/png": "[encoded data removed]",
      "text/plain": [
       "<Figure size 300x300 with 1 Axes>"
      ]
     },
     "metadata": {},
     "output_type": "display_data"
    }
   ],
   "source": [
    "plt.figure(figsize=(3,3))\n",
    "plt.scatter(y_test, y_pred_test)\n",
    "plt.grid()\n",
    "plt.plot([0, 150], [0, 150], c=\"r\")\n",
    "plt.show()"
   ]
  },
  {
   "cell_type": "markdown",
   "id": "c80e7377",
   "metadata": {},
   "source": [
    "## Conclusions"
   ]
  },
  {
   "cell_type": "markdown",
   "id": "ed0e34ce",
   "metadata": {},
   "source": [
    "After performing dimensionality reduction using PCA, the score results for both the classification and regression models were generally worse. Since PCA works by transforming the original variables into a smaller set of variables, termed principal components (PCs), while preserving as much variance in the data as possible, it is plausible that some information is lost in this process. In addition, the resulting PCs are produced by linear combinations of the original variables. If the relationships between the independent variables are non-linear, then the PCA may not capture the underlying non-linear structure of the data. As a result, the feature set composed of a smaller subset of variables (PCs) may lead to a decrease in model performance.\n",
    "\n",
    "Based on the results shown here, we determined that the decision tree regressor with the full dataset was the best performing model for our analysis. The skewness of the target variable towards \"High\" and \"Medium\" categories in the training and validation sets might explain why the classification models in general performed worse than the regression models. When there is an imbalance of categories, with one having signicantly fewer instances than another, classication models may struggle to perform well due to bias towards the majority class. When the data is imbalanced, the classifier may learn to simply predict the majority class, resulting in poor performance on the minority class."
   ]
  }
 ],
 "metadata": {
  "colab": {
   "provenance": []
  },
  "kernelspec": {
   "display_name": "base",
   "language": "python",
   "name": "python3"
  },
  "language_info": {
   "codemirror_mode": {
    "name": "ipython",
    "version": 3
   },
   "file_extension": ".py",
   "mimetype": "text/x-python",
   "name": "python",
   "nbconvert_exporter": "python",
   "pygments_lexer": "ipython3",
   "version": "3.11.4"
  }
 },
 "nbformat": 4,
 "nbformat_minor": 5
}
